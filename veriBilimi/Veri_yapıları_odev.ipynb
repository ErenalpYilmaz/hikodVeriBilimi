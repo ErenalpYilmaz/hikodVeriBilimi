{
 "cells": [
  {
   "cell_type": "markdown",
   "id": "032d81b2",
   "metadata": {},
   "source": [
    "# 1\n",
    "x = 3 ----> floata çevirelim. Çevirdikten sonra beri tipinide yazdıralım.\n",
    "\n",
    "y = 4.5 -----> integere çevirelim. Çevirdikten sonra beri tipinide yazdıralım.\n",
    "\n",
    "z = \"8\" -----> integera çevirelim. Çevirdikten sonra beri tipinide yazdıralım.\n",
    "\n",
    "a = \"12\" -----> floata çevirelim. Çevirdikten sonra beri tipinide yazdıralım.\n",
    "\n",
    "b = \"46.8\" ------> integera çevirelim. Çevirdikten sonra beri tipinide yazdıralım."
   ]
  },
  {
   "cell_type": "code",
   "execution_count": 57,
   "id": "f1b735c0",
   "metadata": {},
   "outputs": [
    {
     "name": "stdout",
     "output_type": "stream",
     "text": [
      "x = <class 'float'>\n",
      "y = <class 'int'>\n",
      "y = <class 'int'>\n",
      "y = <class 'float'>\n",
      "b = <class 'int'>\n"
     ]
    }
   ],
   "source": [
    "x = 3\n",
    "x = float(x)\n",
    "print(f'x = {(type(x))}')\n",
    "\n",
    "y = 4.5\n",
    "y = int(y)\n",
    "print(f'y = {(type(y))}')\n",
    "\n",
    "z = '8'\n",
    "z = int(z)\n",
    "print(f'y = {(type(z))}')\n",
    "\n",
    "a = '12'\n",
    "a = float(a)\n",
    "print(f'y = {(type(a))}')\n",
    "\n",
    "b = '46.8'\n",
    "b = float(b)\n",
    "b = int(b)\n",
    "print(f'b = {(type(b))}')"
   ]
  },
  {
   "cell_type": "markdown",
   "id": "95509718",
   "metadata": {},
   "source": [
    "# 2 \n",
    "İsimlerden oluşan üç değişkene yaş değerleri atanır. Belirlenen üç değişken birbiriyle karşılaştırma operatörleri ile karşılaştırılır. Bu karşılaştırmalara mantıksal operatörler de eklenir."
   ]
  },
  {
   "cell_type": "code",
   "execution_count": 58,
   "id": "50f77b4f",
   "metadata": {},
   "outputs": [
    {
     "name": "stdout",
     "output_type": "stream",
     "text": [
      "Alini yaşı velinin yaşından büyük müdür : False\n",
      "Ahmetin yaşı velinin yaşından büyük müdür : True\n",
      "Ahmetin yaşı Alini yaşından büyük müdür : True\n"
     ]
    }
   ],
   "source": [
    "ali = 15\n",
    "veli = 17\n",
    "ahmet = 20\n",
    "\n",
    "print(f'Alini yaşı velinin yaşından büyük müdür : {ali > veli}')\n",
    "print(f'Ahmetin yaşı velinin yaşından büyük müdür : {ahmet > veli}')\n",
    "print(f'Ahmetin yaşı Alini yaşından büyük müdür : {ahmet > ali}')"
   ]
  },
  {
   "cell_type": "markdown",
   "id": "a1a0eb92",
   "metadata": {},
   "source": [
    "# 3\n",
    "Kullanıcıdan iki değer girmesini istenir. Girilen değerlerin toplama, çıkarma, çarpma, bölme sonuçlarını yazdırılır."
   ]
  },
  {
   "cell_type": "code",
   "execution_count": 59,
   "id": "c361e45a",
   "metadata": {},
   "outputs": [
    {
     "name": "stdout",
     "output_type": "stream",
     "text": [
      "Toplama sonucu:155.4\n",
      "Çıkarma sonucu:90.6\n",
      "Çarpma sonucu:3.7962962962962963\n",
      "Bölme sonucu:3985.2\n"
     ]
    }
   ],
   "source": [
    "sayi1= float(input('İlk sayıyı giriniz :'))\n",
    "sayi2 = float(input('İkinci sayıyı giriniz :'))\n",
    "\n",
    "\n",
    "toplama = sayi1+sayi2\n",
    "cikarma = sayi1-sayi2\n",
    "bolme = sayi1/sayi2\n",
    "carpma = sayi1*sayi2\n",
    "\n",
    "print(f'Toplama sonucu:{toplama}')\n",
    "print(f'Çıkarma sonucu:{cikarma}')\n",
    "print(f'Çarpma sonucu:{bolme}')\n",
    "print(f'Bölme sonucu:{carpma}')"
   ]
  },
  {
   "cell_type": "markdown",
   "id": "060b0bea",
   "metadata": {},
   "source": [
    "# 4\n",
    "Kullanıcıdan isim, yaş, şehir ve meslek bilgilerini istenir ve cevaplarını yazdırılır."
   ]
  },
  {
   "cell_type": "code",
   "execution_count": 60,
   "id": "6f5dea59",
   "metadata": {},
   "outputs": [
    {
     "name": "stdout",
     "output_type": "stream",
     "text": [
      "İsminiz : Erenalp\"\n",
      "\"Yaşınız :21\"\n",
      "\"Yaşadığınız Şehir :Ereğli\"\n",
      "\"Mesleğiniz :Bilgisayar Programcısı\n"
     ]
    }
   ],
   "source": [
    "k_isim = input('İsminizi verebilir misiniz? :')\n",
    "k_yas = input('Yaşınızı verebilir misiniz? :')\n",
    "k_sehir = input('Yaşadığınız şehri verebilir misiniz? :')\n",
    "k_meslek = input('Mesleğinizi verebilir misiniz? :')\n",
    "\n",
    "print('İsminiz : {}\"\\n\"Yaşınız :{}\"\\n\"Yaşadığınız Şehir :{}\"\\n\"Mesleğiniz :{}'.\n",
    "      format(\n",
    "          k_isim,\n",
    "          k_yas,\n",
    "          k_sehir,\n",
    "          k_meslek\n",
    "          ))"
   ]
  },
  {
   "cell_type": "markdown",
   "id": "55e1a34e",
   "metadata": {},
   "source": [
    "# 5\n",
    "\"Hi-Kod Veri Bilimi Atölyesi\" ifadesini bir değişkene tanımlanır.\n",
    "\n",
    "\n",
    " 1. İfadedeki her bir kelimeyi (\"Hi-Kod\", \"Veri\", \"Bilimi\", \"Atölyesi\") değişken içinden seçilir. \n",
    " 2. İfadeyi hepsini büyük harf olacak hale çevrilir. (\"HI-KOD VERİ BİLİMİ ATÖLYESİ\") \n",
    " 3. İfadeyi hepsini büyük harf olacak hale çevrilir.(\"hi-kod veri bilimi atölyesi\") \n",
    "\n",
    "\"0123456789\" ifadesindeki yalnızca çift sayıları ve yalnızca tek sayıları seçilir. (\"02468\", \"13579\")"
   ]
  },
  {
   "cell_type": "code",
   "execution_count": 61,
   "id": "0fc1bc40",
   "metadata": {},
   "outputs": [
    {
     "name": "stdout",
     "output_type": "stream",
     "text": [
      "['Hi-Kod', 'Veri', 'Bilimi', 'Atölyesi']\n",
      "HI-KOD\n",
      "VERI\n",
      "BILIMI\n",
      "ATÖLYESI\n"
     ]
    },
    {
     "data": {
      "text/plain": [
       "'HI-KODVERIBILIMIATÖLYESI'"
      ]
     },
     "execution_count": 61,
     "metadata": {},
     "output_type": "execute_result"
    }
   ],
   "source": [
    "hikod = \"Hi-Kod Veri Bilimi Atölyesi\"\n",
    "df = hikod.split(' ')\n",
    "print(df)\n",
    "text=  ''\n",
    "for hikod in df:\n",
    "    hikod = hikod.upper()\n",
    "    print(hikod)\n",
    "    text += hikod\n",
    "text"
   ]
  },
  {
   "cell_type": "code",
   "execution_count": 62,
   "id": "c0c72143",
   "metadata": {},
   "outputs": [
    {
     "data": {
      "text/plain": [
       "['02468', '13579']"
      ]
     },
     "execution_count": 62,
     "metadata": {},
     "output_type": "execute_result"
    }
   ],
   "source": [
    "nums = '0123456789'\n",
    "text1 = ''\n",
    "text2 = ''\n",
    "for num in range(len(nums)):\n",
    "    if(int(nums[num])%2 == 0 ):\n",
    "        text1+=nums[num]\n",
    "    else:\n",
    "        text2+=nums[num]\n",
    "\n",
    "df = [text1,text2]\n",
    "df\n"
   ]
  }
 ],
 "metadata": {
  "kernelspec": {
   "display_name": "Python 3",
   "language": "python",
   "name": "python3"
  },
  "language_info": {
   "codemirror_mode": {
    "name": "ipython",
    "version": 3
   },
   "file_extension": ".py",
   "mimetype": "text/x-python",
   "name": "python",
   "nbconvert_exporter": "python",
   "pygments_lexer": "ipython3",
   "version": "undefined.undefined.undefined"
  }
 },
 "nbformat": 4,
 "nbformat_minor": 5
}
