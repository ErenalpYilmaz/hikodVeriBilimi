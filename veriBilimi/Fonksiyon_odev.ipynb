{
 "cells": [
  {
   "cell_type": "markdown",
   "metadata": {},
   "source": [
    "#### Ödev 1\n",
    "Kullanıcıdan pi değeri ve yarıçap bilgisi alarak dairenin alanını hesaplayan bir fonksiyon oluşturulur.\n",
    "# ALAN = pi * (r**2)"
   ]
  },
  {
   "cell_type": "code",
   "execution_count": 2,
   "metadata": {},
   "outputs": [
    {
     "name": "stdout",
     "output_type": "stream",
     "text": [
      "Bu dairenin alanı = 78.75\n"
     ]
    }
   ],
   "source": [
    "def daire_Alan_Hesapla(pi,r):\n",
    "    alan = pi*(r**2)\n",
    "    print(f\"Bu dairenin alanı = {alan}\")\n",
    "\n",
    "pi = float(input(\"Pi sayısını giriniz :\"))\n",
    "r = float(input(\"Yarıçapını giriniz :\"))\n",
    "\n",
    "daire_Alan_Hesapla(pi,r)"
   ]
  },
  {
   "cell_type": "markdown",
   "metadata": {},
   "source": [
    "#### Ödev 2\n",
    "\n",
    "Faktöriyel adında fonksiyon oluşturulur. Döngü kullanarak parametre olarak girilen sayının faktöriyeli hesaplanır. Format metodunu kullanılarak ekrana yazdırılır."
   ]
  },
  {
   "cell_type": "code",
   "execution_count": 9,
   "metadata": {},
   "outputs": [
    {
     "name": "stdout",
     "output_type": "stream",
     "text": [
      "120\n"
     ]
    }
   ],
   "source": [
    "def faktöriyel(num):\n",
    "    carpim = 1\n",
    "    for i in range(1,num+1):\n",
    "        carpim *= i      \n",
    "    \n",
    "    return carpim\n",
    "sonuc = faktöriyel(5)\n",
    "print(f\"Sonuç = {sonuc}\")"
   ]
  },
  {
   "cell_type": "markdown",
   "metadata": {},
   "source": [
    "#### Ödev 3\n",
    "Kişinin fonksiyona doğum yılını vererek kaç yaşında olduğunu hesaplayan bir fonksiyon oluşturun. "
   ]
  },
  {
   "cell_type": "code",
   "execution_count": 10,
   "metadata": {},
   "outputs": [
    {
     "name": "stdout",
     "output_type": "stream",
     "text": [
      "Yaşınız : 22\n"
     ]
    }
   ],
   "source": [
    "def yas_Hesapla(yas):\n",
    "    today=2025\n",
    "    \n",
    "    return today - yas\n",
    "\n",
    "yas1 = float(input(\"Yaşınız : \"))\n",
    "\n",
    "sonuc = yas_Hesapla(yas1)\n",
    "print(f\"Yaşınız : {sonuc}\")"
   ]
  },
  {
   "cell_type": "markdown",
   "metadata": {},
   "source": [
    "#### Ödev 4\n",
    "\n",
    "Doğum yılı ve isim bilgisi verilen fonksiyon kişinin emekli olup olmadığını söylesin.(Kişi 65 yaşında ise emekli olur.) Burada yaş hesabını yukarıdaki örnekteki fonksiyonu kullanarak yapsın.(Yani fonksiyon içinde fonksiyon kullanmanızı istiyorum :)) Kişi 65 yaşında ya da daha fazlaysa \"Emekli oldunuz\" yanıtını, 65 yaşından küçükse emekliliğine kaç yıl kaldığını da hesaplayarak \"(isim) emekliliğine (yıl) kaldı.\" yanıtını versin."
   ]
  },
  {
   "cell_type": "code",
   "execution_count": 14,
   "metadata": {},
   "outputs": [
    {
     "name": "stdout",
     "output_type": "stream",
     "text": [
      "ALP emekliliğe 43 kaldı.\n"
     ]
    }
   ],
   "source": [
    "def yas_Hesapla(dogum_yili):\n",
    "    today=2025\n",
    "    \n",
    "    return today - dogum_yili\n",
    "\n",
    "def emeklilik_Kontrol(dogum_yili,isim):\n",
    "    yas = yas_Hesapla(dogum_yili)\n",
    "    \n",
    "    if yas >= 65:\n",
    "        return \"Emekli Oldunuz\"\n",
    "    else : \n",
    "        eksik = 65 - yas\n",
    "        return f\"{isim} emekliliğe {eksik} yıl kaldı.\"   \n",
    "    \n",
    "isim = \"ALP\"\n",
    "dogum_yili = 2003\n",
    "print(emeklilik_Kontrol(dogum_yili, isim))"
   ]
  }
 ],
 "metadata": {
  "kernelspec": {
   "display_name": "base",
   "language": "python",
   "name": "python3"
  },
  "language_info": {
   "codemirror_mode": {
    "name": "ipython",
    "version": 3
   },
   "file_extension": ".py",
   "mimetype": "text/x-python",
   "name": "python",
   "nbconvert_exporter": "python",
   "pygments_lexer": "ipython3",
   "version": "3.12.7"
  }
 },
 "nbformat": 4,
 "nbformat_minor": 2
}
