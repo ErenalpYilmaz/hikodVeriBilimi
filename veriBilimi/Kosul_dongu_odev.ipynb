{
 "cells": [
  {
   "cell_type": "markdown",
   "id": "409f0f4a",
   "metadata": {},
   "source": [
    "**Ödev-1:** Kullanıcıdan maaş bilgisini istenir ve bu bilgiye göre maaşından ne kadar vergi kesileceğini hesaplanır. Kullanıcının geliri;\n",
    "\n",
    "1. 10000 ve altındaysa maaşından %5 kesinti olur.\n",
    "2. 25000 ve altındaysa maaşından %10 kesinti olur.\n",
    "3. 45000 ve altındaysa maaşından %25 kesinti olur.\n",
    "4. Diğer koşullarda %30 kesinti olur.\n",
    "\n",
    "Bu durumlara göre kullanıcının yeni maaşı yazdırılır."
   ]
  },
  {
   "cell_type": "code",
   "execution_count": 12,
   "id": "5246e510",
   "metadata": {},
   "outputs": [
    {
     "data": {
      "text/plain": [
       "9500.0"
      ]
     },
     "execution_count": 12,
     "metadata": {},
     "output_type": "execute_result"
    }
   ],
   "source": [
    "maas = float(input(\"Maaş bilginizi girer misiniz :\"))\n",
    "\n",
    "if maas <= 10000:\n",
    "    maas = maas - ((maas*5)/100)\n",
    "elif maas >10000 and maas <=25000:\n",
    "    maas = maas - ((maas*10)/100)\n",
    "elif maas >25000 and maas <=45000:\n",
    "    maas = maas - ((maas*25)/100)\n",
    "else :\n",
    "    maas = maas - ((maas*30)/100)\n",
    "\n",
    "maas"
   ]
  },
  {
   "cell_type": "markdown",
   "id": "f5fe8798",
   "metadata": {},
   "source": [
    "**Ödev-2:** Kullanıcıdan kullanıcı adı ve şifre oluşturmasını istenir. Şifrenin uzunluğu altı haneye ulaşmışsa hesabınız oluşturuldu mesajı alınır, altı haneden azsa altı haneli şifre oluşturması gerektiğinin mesajı alınır. *(Sadece koşul kullanılması yeterli.)*"
   ]
  },
  {
   "cell_type": "code",
   "execution_count": 13,
   "id": "6acffe57",
   "metadata": {},
   "outputs": [],
   "source": [
    "k_Adi = input(\"Kullanıcı adınızı giriniz :\")\n",
    "\n",
    "password = input(\"Şifrenizi giriniz :\")\n",
    "\n",
    "if len(password) < 6 :\n",
    "    print(\"Şifreniz 6 karakterden kısa olamaz .\")"
   ]
  },
  {
   "cell_type": "markdown",
   "id": "aaccf11a",
   "metadata": {},
   "source": [
    "**Ödev-3:** Bir önceki örnek geliştirilir.\n",
    "\n",
    "1. Kullanıcı girdiği şifre 5 ve 10 hane arasında olmak zorunda.\n",
    "2. Eğer bu koşula uyuyorsa \"Hesabınız oluşturuldu.\" mesajı alır.\n",
    "3. Koşulu sağlamıyorsa \"Lütfen girdiniz şifre 5 haneden az 10 haneden fazla olmasın!\" uyarısı alır.\n",
    "4. Bunu oluştururken kullanıcı istediğimiz şartlarda şifre oluşturana kadar sormaya devam eder"
   ]
  },
  {
   "cell_type": "code",
   "execution_count": 14,
   "id": "039e50dc",
   "metadata": {},
   "outputs": [
    {
     "name": "stdout",
     "output_type": "stream",
     "text": [
      "Hesap Oluşturuldu\n"
     ]
    }
   ],
   "source": [
    "olustuMu = True\n",
    "\n",
    "while olustuMu :\n",
    "    password = input(\"Şifrenizi giriniz : \")\n",
    "    if len(password) < 5 or len(password)>10:\n",
    "        print(\"Lütfen girdiğiniz şifre 5 ila 10 karakter arasında olsun\")\n",
    "    else : \n",
    "        print(\"Hesap Oluşturuldu\")\n",
    "        olustuMu = False"
   ]
  },
  {
   "cell_type": "markdown",
   "id": "8ba81863",
   "metadata": {},
   "source": [
    "**Ödev-4:** Kullanıcıdan isim ve şifre isteyeceğiz ve şifre girişi için üç hak verilir.\n",
    "\n",
    "1. Eğer önceden tanımlı şifre ile kullanıcıdan gelen şifre aynıysa \"Giriş yapıldı.\" yazar.\n",
    "2. Şifre girişi yanlışsa \"Yanlış şifre girildi!\" uyarısı verilsin ve üç yanlış denemede program biter.\n",
    "3. Tercihe göre kalan hak bilgisi verilir."
   ]
  },
  {
   "cell_type": "code",
   "execution_count": 18,
   "id": "8f45ea0c",
   "metadata": {},
   "outputs": [
    {
     "name": "stdout",
     "output_type": "stream",
     "text": [
      "Yanlış şifre girildi \n",
      "Denemeniz :1\n",
      "Yanlış şifre girildi \n",
      "Denemeniz :2\n",
      "Yanlış şifre girildi \n",
      "Denemeniz :3\n"
     ]
    }
   ],
   "source": [
    "repeat = 3\n",
    "\n",
    "öncekipassword = 12345\n",
    "\n",
    "for i in range(1,repeat+1):\n",
    "    password = input(\"Şifre giriniz = \")\n",
    "    if öncekipassword == password:\n",
    "        print(\"Giriş Başarılı\")\n",
    "        break\n",
    "    else: \n",
    "        print(f\"Yanlış şifre girildi \\nDenemeniz :{i}\")    \n",
    "    "
   ]
  }
 ],
 "metadata": {
  "kernelspec": {
   "display_name": "base",
   "language": "python",
   "name": "python3"
  },
  "language_info": {
   "codemirror_mode": {
    "name": "ipython",
    "version": 3
   },
   "file_extension": ".py",
   "mimetype": "text/x-python",
   "name": "python",
   "nbconvert_exporter": "python",
   "pygments_lexer": "ipython3",
   "version": "3.12.7"
  }
 },
 "nbformat": 4,
 "nbformat_minor": 5
}
